{
 "cells": [
  {
   "cell_type": "markdown",
   "metadata": {
    "colab_type": "text",
    "id": "IiNG95DSmRmt"
   },
   "source": [
    "# VecMetaPy\n",
    "## A vectorized framework for metaheuristic optimization in Python"
   ]
  },
  {
   "cell_type": "markdown",
   "metadata": {
    "colab_type": "text",
    "id": "hKzyadcdm6yw"
   },
   "source": [
    "VecMetaPy is a vectorized version of EvoloPy (https://github.com/7ossam81/EvoloPy) meaning that the implementation of the optimization algorithms and benchmark functions have been vectorized using the features of the numpy library including broadcasting. All the benchmark functions from F1 to F23 have been vectorized, as well as the five optimization algorithms: Grey Wolf Optimizer (GWO), Whale Optimization Algorithm (WOA), Moth-Flame Optimization (MFO), Sine-Cosine Optimization (SCA) and Salp Swarm Optimization (SSA)."
   ]
  },
  {
   "cell_type": "markdown",
   "metadata": {
    "colab_type": "text",
    "id": "ehxW3t0puwpm"
   },
   "source": [
    "<h2>Features</h2>"
   ]
  },
  {
   "cell_type": "markdown",
   "metadata": {
    "colab_type": "text",
    "id": "TufeO-Rturq8"
   },
   "source": [
    "*   The implementation of all benchmark functions have been vectorized.\n",
    "*   The implementation of the five algorithms mentioned above have been vectorized.\n",
    "*   The implementation uses the fast array manipulation using [NumPy] (http://www.numpy.org/)."
   ]
  },
  {
   "cell_type": "markdown",
   "metadata": {
    "colab_type": "text",
    "id": "oG2TRdx-vf8m"
   },
   "source": [
    "<h2>Installation</h2>"
   ]
  },
  {
   "cell_type": "markdown",
   "metadata": {
    "colab_type": "text",
    "id": "_XpMUOZNvi9H"
   },
   "source": [
    "Python 3.xx is required."
   ]
  },
  {
   "cell_type": "markdown",
   "metadata": {
    "colab_type": "text",
    "id": "f_PVAZC6v7px"
   },
   "source": [
    "<h2>GitHub</h2>"
   ]
  },
  {
   "cell_type": "markdown",
   "metadata": {
    "colab_type": "text",
    "id": "aW_66ovkv2ev"
   },
   "source": [
    "Clone the Git repository https://github.com/BaratiLab/VecMetaPy"
   ]
  },
  {
   "cell_type": "raw",
   "metadata": {
    "colab": {},
    "colab_type": "code",
    "id": "QgrmE2wEyC_X"
   },
   "source": [
    "!git clone https://github.com/BaratiLab/VecMetaPy.git"
   ]
  },
  {
   "cell_type": "raw",
   "metadata": {
    "colab": {},
    "colab_type": "code",
    "id": "_yVUbtjcyiZR"
   },
   "source": [
    "# Change working directory\n",
    "import os\n",
    "os.chdir(\"VecMetaPy/\")"
   ]
  },
  {
   "cell_type": "markdown",
   "metadata": {
    "colab_type": "text",
    "id": "S4j-t-nXxaM7"
   },
   "source": [
    "<h2>Install Packages</h2>"
   ]
  },
  {
   "cell_type": "raw",
   "metadata": {
    "colab": {},
    "colab_type": "code",
    "id": "-mG8vIuIW1n8"
   },
   "source": [
    "#Install NumPy, SciPy, sklearn, pandas, and matplotlib\n",
    "!pip install -r requirements.txt"
   ]
  },
  {
   "cell_type": "markdown",
   "metadata": {
    "colab_type": "text",
    "id": "fEon-wGyZuq4"
   },
   "source": [
    "<h2>User Preferences</h2>"
   ]
  },
  {
   "cell_type": "code",
   "execution_count": null,
   "metadata": {
    "colab": {},
    "colab_type": "code",
    "id": "cFF9ioDfyppV"
   },
   "outputs": [],
   "source": [
    "# Select optimizers\n",
    "# \"GWO\",\"WOA\",\"MFO\", \"SCA\", \"SSA\",\n",
    "optimizer=[\"SSA\",\"SCA\",\"GWO\", \"WOA\", \"MFO\"]"
   ]
  },
  {
   "cell_type": "code",
   "execution_count": null,
   "metadata": {
    "colab": {},
    "colab_type": "code",
    "id": "SuWo96bB6ohe"
   },
   "outputs": [],
   "source": [
    "# Select benchmark function\"\n",
    "# \"F1\" to \"F23\"\n",
    "objectivefunc_idx = [1,8,14]\n",
    "# objectivefunc_idx = range(1, 24) # to include all objective functions\n",
    "objectivefunc = [f'F{i}' for i in objectivefunc_idx] "
   ]
  },
  {
   "cell_type": "code",
   "execution_count": null,
   "metadata": {
    "colab": {},
    "colab_type": "code",
    "id": "CQyWvdS3Ipgt"
   },
   "outputs": [],
   "source": [
    "# Select number of repetitions for each experiment. \n",
    "# To obtain meaningful statistical results, usually 30 independent runs are executed for each algorithm.\n",
    "NumOfRuns = 3"
   ]
  },
  {
   "cell_type": "code",
   "execution_count": null,
   "metadata": {
    "colab": {},
    "colab_type": "code",
    "id": "2djrIRh26sKB"
   },
   "outputs": [],
   "source": [
    "# Select general parameters for all optimizers (population size, number of iterations) ....\n",
    "params = {'PopulationSize' : 30, 'Iterations' : 200}"
   ]
  },
  {
   "cell_type": "code",
   "execution_count": null,
   "metadata": {
    "colab": {},
    "colab_type": "code",
    "id": "aJb075Np62GM"
   },
   "outputs": [],
   "source": [
    "# Choose whether to Export the results in different formats\n",
    "export_flags = {'Export_avg':True, 'Export_details':True, \n",
    "'Export_convergence':True, 'Export_boxplot':True}"
   ]
  },
  {
   "cell_type": "markdown",
   "metadata": {
    "colab_type": "text",
    "id": "KAgXf1QkZD7X"
   },
   "source": [
    "<h2>Run Framework</h2>"
   ]
  },
  {
   "cell_type": "code",
   "execution_count": null,
   "metadata": {
    "colab": {},
    "colab_type": "code",
    "id": "APzDcxiwI8A2"
   },
   "outputs": [],
   "source": [
    "# Run VecMetaPy\n",
    "from vectorized_optimizer import run\n",
    "run(optimizer, objectivefunc, NumOfRuns, params, export_flags)"
   ]
  },
  {
   "cell_type": "markdown",
   "metadata": {
    "colab_type": "text",
    "id": "1mB9AVhQuwbH"
   },
   "source": [
    "<h2>Results Files and Plots</h2>"
   ]
  },
  {
   "cell_type": "code",
   "execution_count": null,
   "metadata": {
    "colab": {},
    "colab_type": "code",
    "id": "642Oh7QUpRhL"
   },
   "outputs": [],
   "source": [
    "#import some useful packages to view the results' files in colab\n",
    "import pandas as pd\n",
    "from IPython.display import Image\n",
    "import os\n",
    "import datetime\n",
    "import ipywidgets as widgets"
   ]
  },
  {
   "cell_type": "code",
   "execution_count": null,
   "metadata": {
    "colab": {
     "base_uri": "https://localhost:8080/",
     "height": 49,
     "referenced_widgets": [
      "3a32992a7be9497c949bc06a2e838a1d",
      "3633a55c7efe490784594bad5694800d",
      "75acaa0a501744f7817d0864462e8a7e"
     ]
    },
    "colab_type": "code",
    "id": "UOLHaWwBRf7D",
    "outputId": "4423bcec-4cd7-4155-d923-5a6e7d731a9a"
   },
   "outputs": [],
   "source": [
    "#Select the experiments folder\n",
    "foldernames = [filename for filename in os.listdir() if filename.startswith(str(datetime.datetime.now().year))]\n",
    "drop_folder = widgets.Dropdown(options=foldernames, description='Select folder:')\n",
    "drop_folder"
   ]
  },
  {
   "cell_type": "code",
   "execution_count": null,
   "metadata": {
    "colab": {},
    "colab_type": "code",
    "id": "xm8UuPRA6uIb"
   },
   "outputs": [],
   "source": [
    "#Get the selected folder\n",
    "foldername = drop_folder.value"
   ]
  },
  {
   "cell_type": "markdown",
   "metadata": {
    "colab_type": "text",
    "id": "qjNFP9NqvNV3"
   },
   "source": [
    "<h4>Average Results File</h4>"
   ]
  },
  {
   "cell_type": "code",
   "execution_count": null,
   "metadata": {
    "colab": {
     "base_uri": "https://localhost:8080/",
     "height": 193
    },
    "colab_type": "code",
    "id": "U_PNBYEYp2cn",
    "outputId": "d6fcb639-8d52-400c-fced-468475b9c789"
   },
   "outputs": [],
   "source": [
    "#Show the average results file\n",
    "filename = foldername +'/experiment.csv' \n",
    "df = pd.read_csv(filename)\n",
    "df"
   ]
  },
  {
   "cell_type": "markdown",
   "metadata": {
    "colab_type": "text",
    "id": "sXSfvROovXRc"
   },
   "source": [
    "<h4>Detailed Results File</h4>"
   ]
  },
  {
   "cell_type": "code",
   "execution_count": null,
   "metadata": {
    "colab": {
     "base_uri": "https://localhost:8080/",
     "height": 441
    },
    "colab_type": "code",
    "id": "RXU4upcgqcX_",
    "outputId": "9ecd8e8f-c243-417c-b0d1-f73c5f0072c8"
   },
   "outputs": [],
   "source": [
    "#Show the detailed results file\n",
    "filename = foldername +'/experiment_details.csv' \n",
    "df = pd.read_csv(filename)\n",
    "df.head(12)"
   ]
  },
  {
   "cell_type": "markdown",
   "metadata": {
    "colab_type": "text",
    "id": "7gw9qJb7vedV"
   },
   "source": [
    "<h4>Convergence Curve Plot</h4>"
   ]
  },
  {
   "cell_type": "code",
   "execution_count": null,
   "metadata": {
    "colab": {
     "base_uri": "https://localhost:8080/",
     "height": 49,
     "referenced_widgets": [
      "e4a83005aaa043d48540b6f4202070e5",
      "641b5f943c8e419583baaf02485acffb",
      "45a8720657764f1585859c3d3dae8745"
     ]
    },
    "colab_type": "code",
    "id": "14hzxM7spueJ",
    "outputId": "6e047a4c-b0df-48c1-d4b1-447240fd9384"
   },
   "outputs": [],
   "source": [
    "#Select convergence curve to show\n",
    "filenames = [filename for filename in os.listdir(foldername) if filename.startswith('convergence')]\n",
    "\n",
    "drop_plot_convergence = widgets.Dropdown(options=filenames, description='Select plot:')\n",
    "drop_plot_convergence"
   ]
  },
  {
   "cell_type": "code",
   "execution_count": null,
   "metadata": {
    "colab": {
     "base_uri": "https://localhost:8080/",
     "height": 279
    },
    "colab_type": "code",
    "id": "ZMstknfRafMj",
    "outputId": "b4b18695-4f57-4804-e992-7fd6b72ef746"
   },
   "outputs": [],
   "source": [
    "#Show selected convergence curve\n",
    "Image(foldername +'/' + drop_plot_convergence.value)"
   ]
  },
  {
   "cell_type": "markdown",
   "metadata": {
    "colab_type": "text",
    "id": "HYEl6buevixm"
   },
   "source": [
    "<h4>Box Plot</h4>"
   ]
  },
  {
   "cell_type": "code",
   "execution_count": null,
   "metadata": {
    "colab": {
     "base_uri": "https://localhost:8080/",
     "height": 49,
     "referenced_widgets": [
      "91e278780d5b4dcda11e832e971044f3",
      "c1b161beed5c4b128b06a09d7a5be2fe",
      "b08d8ae9147047acac84d9e52bfee64f"
     ]
    },
    "colab_type": "code",
    "id": "rWF1AKS5bPvV",
    "outputId": "9cdefbdf-8a8c-4a0f-cbae-3a0aba9528df"
   },
   "outputs": [],
   "source": [
    "#Select boxplot to show\n",
    "filenames = [filename for filename in os.listdir(foldername) if filename.startswith('boxplot')]\n",
    "\n",
    "drop_boxplot = widgets.Dropdown(options=filenames, description='Select plot:')\n",
    "drop_boxplot"
   ]
  },
  {
   "cell_type": "code",
   "execution_count": null,
   "metadata": {
    "colab": {
     "base_uri": "https://localhost:8080/",
     "height": 265
    },
    "colab_type": "code",
    "id": "paBsvZRktfTh",
    "outputId": "61ebf09e-07cc-4718-d273-0ed5e02766f6"
   },
   "outputs": [],
   "source": [
    "#Show selected boxplot\n",
    "Image(foldername +'/' + drop_boxplot.value)"
   ]
  },
  {
   "cell_type": "markdown",
   "metadata": {},
   "source": [
    "# Citation Request\n",
    "Please include these citations if you plan to use this Framework:\n",
    "\n",
    "* VecMetaPy Paper: https://doi.org/10.1016/j.advengsoft.2022.103092\n",
    "\n",
    "\n",
    "*   Faris, Hossam, Ibrahim Aljarah, Seyedali Mirjalili, Pedro A. Castillo, and Juan Julián Merelo Guervós. \"EvoloPy: An Open-source Nature-inspired Optimization Framework in Python.\" In IJCCI (ECTA), pp. 171-177. 2016.\n"
   ]
  }
 ],
 "metadata": {
  "colab": {
   "collapsed_sections": [],
   "include_colab_link": true,
   "name": "EvoloPy.ipynb",
   "provenance": []
  },
  "kernelspec": {
   "display_name": "Python 3",
   "language": "python",
   "name": "python3"
  },
  "language_info": {
   "codemirror_mode": {
    "name": "ipython",
    "version": 3
   },
   "file_extension": ".py",
   "mimetype": "text/x-python",
   "name": "python",
   "nbconvert_exporter": "python",
   "pygments_lexer": "ipython3",
   "version": "3.7.3"
  },
  "widgets": {
   "application/vnd.jupyter.widget-state+json": {
    "3633a55c7efe490784594bad5694800d": {
     "model_module": "@jupyter-widgets/controls",
     "model_name": "DescriptionStyleModel",
     "state": {
      "_model_module": "@jupyter-widgets/controls",
      "_model_module_version": "1.5.0",
      "_model_name": "DescriptionStyleModel",
      "_view_count": null,
      "_view_module": "@jupyter-widgets/base",
      "_view_module_version": "1.2.0",
      "_view_name": "StyleView",
      "description_width": ""
     }
    },
    "3a32992a7be9497c949bc06a2e838a1d": {
     "model_module": "@jupyter-widgets/controls",
     "model_name": "DropdownModel",
     "state": {
      "_dom_classes": [],
      "_model_module": "@jupyter-widgets/controls",
      "_model_module_version": "1.5.0",
      "_model_name": "DropdownModel",
      "_options_labels": [
       "2020-05-15-13-41-36"
      ],
      "_view_count": null,
      "_view_module": "@jupyter-widgets/controls",
      "_view_module_version": "1.5.0",
      "_view_name": "DropdownView",
      "description": "Select folder:",
      "description_tooltip": null,
      "disabled": false,
      "index": 0,
      "layout": "IPY_MODEL_75acaa0a501744f7817d0864462e8a7e",
      "style": "IPY_MODEL_3633a55c7efe490784594bad5694800d"
     }
    },
    "45a8720657764f1585859c3d3dae8745": {
     "model_module": "@jupyter-widgets/base",
     "model_name": "LayoutModel",
     "state": {
      "_model_module": "@jupyter-widgets/base",
      "_model_module_version": "1.2.0",
      "_model_name": "LayoutModel",
      "_view_count": null,
      "_view_module": "@jupyter-widgets/base",
      "_view_module_version": "1.2.0",
      "_view_name": "LayoutView",
      "align_content": null,
      "align_items": null,
      "align_self": null,
      "border": null,
      "bottom": null,
      "display": null,
      "flex": null,
      "flex_flow": null,
      "grid_area": null,
      "grid_auto_columns": null,
      "grid_auto_flow": null,
      "grid_auto_rows": null,
      "grid_column": null,
      "grid_gap": null,
      "grid_row": null,
      "grid_template_areas": null,
      "grid_template_columns": null,
      "grid_template_rows": null,
      "height": null,
      "justify_content": null,
      "justify_items": null,
      "left": null,
      "margin": null,
      "max_height": null,
      "max_width": null,
      "min_height": null,
      "min_width": null,
      "object_fit": null,
      "object_position": null,
      "order": null,
      "overflow": null,
      "overflow_x": null,
      "overflow_y": null,
      "padding": null,
      "right": null,
      "top": null,
      "visibility": null,
      "width": null
     }
    },
    "641b5f943c8e419583baaf02485acffb": {
     "model_module": "@jupyter-widgets/controls",
     "model_name": "DescriptionStyleModel",
     "state": {
      "_model_module": "@jupyter-widgets/controls",
      "_model_module_version": "1.5.0",
      "_model_name": "DescriptionStyleModel",
      "_view_count": null,
      "_view_module": "@jupyter-widgets/base",
      "_view_module_version": "1.2.0",
      "_view_name": "StyleView",
      "description_width": ""
     }
    },
    "75acaa0a501744f7817d0864462e8a7e": {
     "model_module": "@jupyter-widgets/base",
     "model_name": "LayoutModel",
     "state": {
      "_model_module": "@jupyter-widgets/base",
      "_model_module_version": "1.2.0",
      "_model_name": "LayoutModel",
      "_view_count": null,
      "_view_module": "@jupyter-widgets/base",
      "_view_module_version": "1.2.0",
      "_view_name": "LayoutView",
      "align_content": null,
      "align_items": null,
      "align_self": null,
      "border": null,
      "bottom": null,
      "display": null,
      "flex": null,
      "flex_flow": null,
      "grid_area": null,
      "grid_auto_columns": null,
      "grid_auto_flow": null,
      "grid_auto_rows": null,
      "grid_column": null,
      "grid_gap": null,
      "grid_row": null,
      "grid_template_areas": null,
      "grid_template_columns": null,
      "grid_template_rows": null,
      "height": null,
      "justify_content": null,
      "justify_items": null,
      "left": null,
      "margin": null,
      "max_height": null,
      "max_width": null,
      "min_height": null,
      "min_width": null,
      "object_fit": null,
      "object_position": null,
      "order": null,
      "overflow": null,
      "overflow_x": null,
      "overflow_y": null,
      "padding": null,
      "right": null,
      "top": null,
      "visibility": null,
      "width": null
     }
    },
    "91e278780d5b4dcda11e832e971044f3": {
     "model_module": "@jupyter-widgets/controls",
     "model_name": "DropdownModel",
     "state": {
      "_dom_classes": [],
      "_model_module": "@jupyter-widgets/controls",
      "_model_module_version": "1.5.0",
      "_model_name": "DropdownModel",
      "_options_labels": [
       "boxplot-F3.png",
       "boxplot-F4.png"
      ],
      "_view_count": null,
      "_view_module": "@jupyter-widgets/controls",
      "_view_module_version": "1.5.0",
      "_view_name": "DropdownView",
      "description": "Select plot:",
      "description_tooltip": null,
      "disabled": false,
      "index": 1,
      "layout": "IPY_MODEL_b08d8ae9147047acac84d9e52bfee64f",
      "style": "IPY_MODEL_c1b161beed5c4b128b06a09d7a5be2fe"
     }
    },
    "b08d8ae9147047acac84d9e52bfee64f": {
     "model_module": "@jupyter-widgets/base",
     "model_name": "LayoutModel",
     "state": {
      "_model_module": "@jupyter-widgets/base",
      "_model_module_version": "1.2.0",
      "_model_name": "LayoutModel",
      "_view_count": null,
      "_view_module": "@jupyter-widgets/base",
      "_view_module_version": "1.2.0",
      "_view_name": "LayoutView",
      "align_content": null,
      "align_items": null,
      "align_self": null,
      "border": null,
      "bottom": null,
      "display": null,
      "flex": null,
      "flex_flow": null,
      "grid_area": null,
      "grid_auto_columns": null,
      "grid_auto_flow": null,
      "grid_auto_rows": null,
      "grid_column": null,
      "grid_gap": null,
      "grid_row": null,
      "grid_template_areas": null,
      "grid_template_columns": null,
      "grid_template_rows": null,
      "height": null,
      "justify_content": null,
      "justify_items": null,
      "left": null,
      "margin": null,
      "max_height": null,
      "max_width": null,
      "min_height": null,
      "min_width": null,
      "object_fit": null,
      "object_position": null,
      "order": null,
      "overflow": null,
      "overflow_x": null,
      "overflow_y": null,
      "padding": null,
      "right": null,
      "top": null,
      "visibility": null,
      "width": null
     }
    },
    "c1b161beed5c4b128b06a09d7a5be2fe": {
     "model_module": "@jupyter-widgets/controls",
     "model_name": "DescriptionStyleModel",
     "state": {
      "_model_module": "@jupyter-widgets/controls",
      "_model_module_version": "1.5.0",
      "_model_name": "DescriptionStyleModel",
      "_view_count": null,
      "_view_module": "@jupyter-widgets/base",
      "_view_module_version": "1.2.0",
      "_view_name": "StyleView",
      "description_width": ""
     }
    },
    "e4a83005aaa043d48540b6f4202070e5": {
     "model_module": "@jupyter-widgets/controls",
     "model_name": "DropdownModel",
     "state": {
      "_dom_classes": [],
      "_model_module": "@jupyter-widgets/controls",
      "_model_module_version": "1.5.0",
      "_model_name": "DropdownModel",
      "_options_labels": [
       "convergence-F4.png",
       "convergence-F3.png"
      ],
      "_view_count": null,
      "_view_module": "@jupyter-widgets/controls",
      "_view_module_version": "1.5.0",
      "_view_name": "DropdownView",
      "description": "Select plot:",
      "description_tooltip": null,
      "disabled": false,
      "index": 0,
      "layout": "IPY_MODEL_45a8720657764f1585859c3d3dae8745",
      "style": "IPY_MODEL_641b5f943c8e419583baaf02485acffb"
     }
    }
   }
  }
 },
 "nbformat": 4,
 "nbformat_minor": 1
}
